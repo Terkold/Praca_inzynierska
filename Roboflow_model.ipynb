{
 "cells": [
  {
   "cell_type": "code",
   "execution_count": 16,
   "metadata": {},
   "outputs": [],
   "source": [
    "import ast\n",
    "from PIL import Image\n",
    "from PIL.ExifTags import GPSTAGS\n",
    "import re\n",
    "import piexif\n",
    "import math"
   ]
  },
  {
   "cell_type": "markdown",
   "metadata": {},
   "source": [
    "Image path input and GSD calculation"
   ]
  },
  {
   "cell_type": "code",
   "execution_count": 2,
   "metadata": {},
   "outputs": [
    {
     "name": "stdout",
     "output_type": "stream",
     "text": [
      "0.009395711500974657\n"
     ]
    }
   ],
   "source": [
    "image_path = 'zdjecie/DJI_0343.JPG' # Path to input image\n",
    "# Calculating ground sampling distance\n",
    "flight_hight = 40 #meters\n",
    "s_x = 0.000002410000 #meters\n",
    "focal_length = 0.01026000 #meters\n",
    "gsd = (flight_hight*s_x)/focal_length #meters\n",
    "\n",
    "print(gsd)"
   ]
  },
  {
   "cell_type": "markdown",
   "metadata": {},
   "source": [
    "Getting coordinates of input image center"
   ]
  },
  {
   "cell_type": "code",
   "execution_count": 3,
   "metadata": {},
   "outputs": [
    {
     "name": "stdout",
     "output_type": "stream",
     "text": [
      "Original Size: 5472x3648, GPS: (54.13496063888889, 19.93641866666667)\n"
     ]
    }
   ],
   "source": [
    "def get_image_metadata(image_path):\n",
    "    \"\"\"Extracts image width, height, and GPS coordinates from EXIF metadata.\"\"\"\n",
    "    img = Image.open(image_path)\n",
    "    width, height = img.size  # Get original dimensions\n",
    "    \n",
    "    exif_data = piexif.load(img.info.get(\"exif\", b\"\"))  # Load EXIF data\n",
    "\n",
    "    gps_info = exif_data.get(\"GPS\", {})\n",
    "    gps_data = {}\n",
    "\n",
    "    if gps_info:\n",
    "        for key, val in gps_info.items():\n",
    "            tag = GPSTAGS.get(key, key)\n",
    "            gps_data[tag] = val\n",
    "\n",
    "    # Convert GPS DMS format to Decimal Degrees\n",
    "    def convert_to_degrees(value):\n",
    "        \"\"\"Convert EXIF GPS coordinates to decimal degrees.\"\"\"\n",
    "        d = value[0][0] / value[0][1]  # Degrees\n",
    "        m = value[1][0] / value[1][1]  # Minutes\n",
    "        s = value[2][0] / value[2][1]  # Seconds\n",
    "        return d + (m / 60.0) + (s / 3600.0)\n",
    "\n",
    "    if \"GPSLatitude\" in gps_data and \"GPSLongitude\" in gps_data:\n",
    "        lat = convert_to_degrees(gps_data[\"GPSLatitude\"])\n",
    "        lon = convert_to_degrees(gps_data[\"GPSLongitude\"])\n",
    "\n",
    "        if gps_data[\"GPSLatitudeRef\"] == b'S':  # South is negative\n",
    "            lat = -lat\n",
    "        if gps_data[\"GPSLongitudeRef\"] == b'W':  # West is negative\n",
    "            lon = -lon\n",
    "    else:\n",
    "        lat, lon = None, None\n",
    "\n",
    "    return width, height, lat, lon\n",
    "\n",
    "\n",
    "orig_w, orig_h, lat, lon = get_image_metadata(image_path)\n",
    "print(f\"Original Size: {orig_w}x{orig_h}, GPS: ({lat}, {lon})\")\n"
   ]
  },
  {
   "cell_type": "markdown",
   "metadata": {},
   "source": [
    "Resizing image to fit into model"
   ]
  },
  {
   "cell_type": "code",
   "execution_count": 4,
   "metadata": {},
   "outputs": [],
   "source": [
    "def resize_image(image_path, output_size=(2048, 1365), save_path=\"resized_image.jpg\"):\n",
    "    \"\"\"Resizes the image to 2048x1365 using LANCZOS interpolation and saves it.\"\"\"\n",
    "    img = Image.open(image_path)\n",
    "    img_resized = img.resize(output_size, Image.LANCZOS)  # Use LANCZOS instead of ANTIALIAS\n",
    "    \n",
    "    return img_resized"
   ]
  },
  {
   "cell_type": "markdown",
   "metadata": {},
   "source": [
    "Centroid transformation to ground coordinates"
   ]
  },
  {
   "cell_type": "code",
   "execution_count": 5,
   "metadata": {},
   "outputs": [],
   "source": [
    "def pixel_to_ground_coordinates(gsd, center_lat, center_lon, old_w, old_h, new_w, new_h, xx, yy):\n",
    "    \"\"\"\n",
    "    Converts pixel coordinates (xx, yy) to geographic coordinates (latitude, longitude).\n",
    "    \"\"\"\n",
    "    # Calculate scale factor\n",
    "    scale_x = orig_w / new_w\n",
    "    scale_y = orig_h / new_h\n",
    "\n",
    "    # Convert back to original scale\n",
    "    orig_cx = xx * scale_x\n",
    "    orig_cy = yy * scale_y\n",
    "\n",
    "    # Compute pixel offset from the image center\n",
    "    delta_x = (orig_cx - old_w / 2) * gsd\n",
    "    delta_y = (orig_cy - old_h / 2) * gsd\n",
    "\n",
    "    # Convert pixel offsets to degrees\n",
    "    earth_radius = 6378137.0  # Earth's radius in meters\n",
    "    lat_per_meter = 1 / (earth_radius * (math.pi / 180))  # Meters to degrees latitude\n",
    "    lon_per_meter = lat_per_meter / math.cos(math.radians(center_lat))  # Meters to degrees longitude\n",
    "\n",
    "    # Compute new latitude and longitude\n",
    "    new_lat = center_lat - delta_y * lat_per_meter  # Negative delta_y moves north\n",
    "    new_lon = center_lon + delta_x * lon_per_meter  # Positive delta_x moves east\n",
    "\n",
    "    return new_lat, new_lon"
   ]
  },
  {
   "cell_type": "markdown",
   "metadata": {},
   "source": [
    "Loading model output data and computing centroids"
   ]
  },
  {
   "cell_type": "code",
   "execution_count": 6,
   "metadata": {},
   "outputs": [],
   "source": [
    "def extract_data_from_output(data):\n",
    "    \"\"\"\n",
    "    Extracts bounding box coordinates and class IDs dynamically, \n",
    "    ensuring correct order even if the CSV format changes.\n",
    "    \"\"\"\n",
    "    if not data or 'output' not in data[0]:\n",
    "        print(\"❌ Error: Invalid input data format\")\n",
    "        return None\n",
    "\n",
    "    # Extract CSV content (skip the header)\n",
    "    lines = data[0]['output'].strip().split(\"\\n\")\n",
    "\n",
    "    if len(lines) < 2:\n",
    "        print(\"❌ Error: CSV data is missing values\")\n",
    "        return None\n",
    "\n",
    "    header = lines[0].split(\",\")  # Extract column names\n",
    "    csv_content = lines[1]  # Extract actual values\n",
    "    \n",
    "    # Debug: Print detected header\n",
    "    print(f\"🛠 Detected Header: {header}\")\n",
    "\n",
    "    # Use regex to extract list-like substrings\n",
    "    matches = re.findall(r'\\[.*?\\]', csv_content)\n",
    "\n",
    "    if len(matches) != len(header) - 1:\n",
    "        print(\"❌ Error: Mismatch in detected values and header length\")\n",
    "        print(f\"🔍 Extracted Matches: {matches}\")\n",
    "        return None\n",
    "\n",
    "    # Dictionary to store extracted values dynamically\n",
    "    extracted_values = {}\n",
    "\n",
    "    # Map extracted values to column names dynamically\n",
    "    for col_name, match in zip(header, matches):\n",
    "        extracted_values[col_name.strip()] = ast.literal_eval(match)\n",
    "\n",
    "    # Extract values safely\n",
    "    try:\n",
    "        y_max = extracted_values.get(\"y_max\", [])\n",
    "        y_min = extracted_values.get(\"y_min\", [])\n",
    "        x_max = extracted_values.get(\"x_max\", [])\n",
    "        x_min = extracted_values.get(\"x_min\", [])\n",
    "        class_ids = extracted_values.get(\"Class ID\", [])\n",
    "\n",
    "        # Ensure class IDs are integers\n",
    "        class_ids = [int(cid) for cid in class_ids]\n",
    "\n",
    "        # Compute centroids\n",
    "        centroids = [((float(xmax) + float(xmin)) / 2, (float(ymax) + float(ymin)) / 2) \n",
    "                     for xmax, xmin, ymax, ymin in zip(x_max, x_min, y_max, y_min)]\n",
    "\n",
    "        # Debug: Print extracted values\n",
    "        print(f\"✅ Extracted Class IDs: {class_ids}\")\n",
    "        print(f\"✅ Computed Centroids: {centroids}\")\n",
    "\n",
    "        return centroids, class_ids\n",
    "\n",
    "    except Exception as e:\n",
    "        print(f\"❌ Error while processing data: {e}\")\n",
    "        return None"
   ]
  },
  {
   "cell_type": "markdown",
   "metadata": {},
   "source": [
    "Saving centroids to CSV"
   ]
  },
  {
   "cell_type": "code",
   "execution_count": 7,
   "metadata": {},
   "outputs": [],
   "source": [
    "import csv\n",
    "\n",
    "def save_centroids_to_csv(centroids, class_ids, output_csv=\"centroids.csv\"):\n",
    "    \"\"\"Saves centroids (lat, lon) and class IDs to a CSV file for QGIS.\"\"\"\n",
    "    with open(output_csv, mode=\"w\", newline=\"\") as file:\n",
    "        writer = csv.writer(file)\n",
    "        writer.writerow([\"Latitude\", \"Longitude\", \"Class ID\"])  # CSV header\n",
    "        \n",
    "        for (lat, lon), class_id in zip(centroids, class_ids):\n",
    "            writer.writerow([lat, lon, class_id])\n",
    "\n",
    "    print(f\"Centroids saved to {output_csv}\")"
   ]
  },
  {
   "cell_type": "markdown",
   "metadata": {},
   "source": [
    "Getting corner coordinates of input image"
   ]
  },
  {
   "cell_type": "code",
   "execution_count": 9,
   "metadata": {},
   "outputs": [],
   "source": [
    "def get_image_corners(center_lat, center_lon, gsd, img_width, img_height):\n",
    "    \"\"\"\n",
    "    Computes the GPS coordinates of the four corners of an image.\n",
    "    \"\"\"\n",
    "\n",
    "    # Compute pixel shifts from center\n",
    "    half_w = (img_width / 2) * gsd  # Half width in meters\n",
    "    half_h = (img_height / 2) * gsd  # Half height in meters\n",
    "\n",
    "    # Convert meters to degrees\n",
    "    earth_radius = 6378137.0  # Radius of Earth in meters\n",
    "    lat_per_meter = 1 / (earth_radius * (3.141592653589793 / 180))  # Degrees per meter\n",
    "    lon_per_meter = lat_per_meter / math.cos(math.radians(center_lat))  # Adjust for latitude\n",
    "\n",
    "    # Calculate corner coordinates\n",
    "    top_left = (center_lat + half_h * lat_per_meter, center_lon - half_w * lon_per_meter)\n",
    "    top_right = (center_lat + half_h * lat_per_meter, center_lon + half_w * lon_per_meter)\n",
    "    bottom_left = (center_lat - half_h * lat_per_meter, center_lon - half_w * lon_per_meter)\n",
    "    bottom_right = (center_lat - half_h * lat_per_meter, center_lon + half_w * lon_per_meter)\n",
    "\n",
    "    return {\n",
    "        \"top_left\": top_left,\n",
    "        \"top_right\": top_right,\n",
    "        \"bottom_left\": bottom_left,\n",
    "        \"bottom_right\": bottom_right\n",
    "    }"
   ]
  },
  {
   "cell_type": "markdown",
   "metadata": {},
   "source": [
    "Execution of defined functions"
   ]
  },
  {
   "cell_type": "code",
   "execution_count": 10,
   "metadata": {},
   "outputs": [
    {
     "name": "stdout",
     "output_type": "stream",
     "text": [
      "Original Size: 5472x3648, GPS: (54.13496063888889, 19.93641866666667)\n"
     ]
    }
   ],
   "source": [
    "orig_w, orig_h, lat, lon = get_image_metadata(image_path)\n",
    "print(f\"Original Size: {orig_w}x{orig_h}, GPS: ({lat}, {lon})\")"
   ]
  },
  {
   "cell_type": "code",
   "execution_count": 11,
   "metadata": {},
   "outputs": [],
   "source": [
    "resized_image = resize_image(image_path)\n",
    "#resized_image.show()  # Show resized image"
   ]
  },
  {
   "cell_type": "code",
   "execution_count": 12,
   "metadata": {},
   "outputs": [],
   "source": [
    "# Connecting to model\n",
    "from inference_sdk import InferenceHTTPClient\n",
    "\n",
    "client = InferenceHTTPClient(\n",
    "    api_url=\"https://detect.roboflow.com\",\n",
    "    api_key=\"your_APIKEY\" #Can't show mine\n",
    ")\n",
    "\n",
    "result = client.run_workflow(\n",
    "    workspace_name=\"praca-7cas9\",\n",
    "    workflow_id=\"custom-workflow-2\",\n",
    "    images={\n",
    "        \"image\": resized_image # your input image, might need resizing\n",
    "    },\n",
    "    use_cache=False # cache workflow definition for 15 minutes\n",
    ")"
   ]
  },
  {
   "cell_type": "code",
   "execution_count": 13,
   "metadata": {},
   "outputs": [
    {
     "name": "stdout",
     "output_type": "stream",
     "text": [
      "[{'output': 'x_max,Class ID,x_min,y_min,y_max,timestamp\\n\"[1937.0, 2045.0, 2027.0, 1349.0, 1660.0, 524.0, 919.0, 1866.0, 114.0, 1931.0, 1659.0, 1732.0, 1555.0, 1632.0, 1948.0, 1304.0, 1566.0, 129.0, 1431.0, 1482.0, 1353.0, 1590.0]\",\"[\\'3\\', \\'1\\', \\'2\\', \\'1\\', \\'1\\', \\'1\\', \\'3\\', \\'0\\', \\'2\\', \\'2\\', \\'1\\', \\'2\\', \\'3\\', \\'2\\', \\'2\\', \\'2\\', \\'2\\', \\'2\\', \\'2\\', \\'2\\', \\'2\\', \\'2\\']\",\"[1786.0, 1879.0, 1958.0, 1287.0, 1557.0, 432.0, 788.0, 1559.0, 12.0, 1900.0, 1556.0, 1681.0, 1493.0, 1609.0, 1811.0, 1280.0, 1541.0, 0.0, 1407.0, 1457.0, 1324.0, 1561.0]\",\"[148.0, 1086.0, 1234.0, 986.0, 462.0, 0.0, 402.0, 252.0, 787.0, 1283.0, 820.0, 1281.0, 0.0, 1096.0, 1269.0, 572.0, 1192.0, 755.0, 675.0, 1087.0, 682.0, 1349.0]\",\"[297.0, 1265.0, 1296.0, 1063.0, 562.0, 79.0, 474.0, 502.0, 840.0, 1306.0, 886.0, 1317.0, 39.0, 1123.0, 1365.0, 595.0, 1212.0, 992.0, 707.0, 1110.0, 703.0, 1364.0]\",2025-02-03T21:49:50.535372+00:00\\n'}]\n"
     ]
    }
   ],
   "source": [
    "print(result)\n",
    "data=result"
   ]
  },
  {
   "cell_type": "code",
   "execution_count": 17,
   "metadata": {},
   "outputs": [
    {
     "name": "stdout",
     "output_type": "stream",
     "text": [
      "🛠 Detected Header: ['x_max', 'Class ID', 'x_min', 'y_min', 'y_max', 'timestamp']\n",
      "✅ Extracted Class IDs: [3, 1, 2, 1, 1, 1, 3, 0, 2, 2, 1, 2, 3, 2, 2, 2, 2, 2, 2, 2, 2, 2]\n",
      "✅ Computed Centroids: [(1861.5, 222.5), (1962.0, 1175.5), (1992.5, 1265.0), (1318.0, 1024.5), (1608.5, 512.0), (478.0, 39.5), (853.5, 438.0), (1712.5, 377.0), (63.0, 813.5), (1915.5, 1294.5), (1607.5, 853.0), (1706.5, 1299.0), (1524.0, 19.5), (1620.5, 1109.5), (1879.5, 1317.0), (1292.0, 583.5), (1553.5, 1202.0), (64.5, 873.5), (1419.0, 691.0), (1469.5, 1098.5), (1338.5, 692.5), (1575.5, 1356.5)]\n"
     ]
    }
   ],
   "source": [
    "centroids, class_ids = extract_data_from_output(data)"
   ]
  },
  {
   "cell_type": "code",
   "execution_count": 18,
   "metadata": {},
   "outputs": [
    {
     "name": "stdout",
     "output_type": "stream",
     "text": [
      "Centroid 1: Latitude 54.135064400921834, Longitude 19.9367410349008\n",
      "Centroid 2: Latitude 54.13484943305794, Longitude 19.936779719088896\n",
      "Centroid 3: Latitude 54.134829244575435, Longitude 19.936791459066377\n",
      "Centroid 4: Latitude 54.134883494073094, Longitude 19.936531832351246\n",
      "Centroid 5: Latitude 54.13499909851197, Longitude 19.936643650825296\n",
      "Centroid 6: Latitude 54.135105680165374, Longitude 19.93620850182388\n",
      "Centroid 7: Latitude 54.13501579066509, Longitude 19.93635303826796\n",
      "Centroid 8: Latitude 54.135029550412945, Longitude 19.936683682223922\n",
      "Centroid 9: Latitude 54.134931089266466, Longitude 19.93604876114667\n",
      "Centroid 10: Latitude 54.13482259027115, Longitude 19.9367618204347\n",
      "Centroid 11: Latitude 54.134922179265814, Longitude 19.936643265908\n",
      "Centroid 12: Latitude 54.13482157520779, Longitude 19.936681372720155\n",
      "Centroid 13: Latitude 54.13511019155811, Longitude 19.93661112531391\n",
      "Centroid 14: Latitude 54.13486432065397, Longitude 19.93664826983283\n",
      "Centroid 15: Latitude 54.13481751495432, Longitude 19.9367479634121\n",
      "Centroid 16: Latitude 54.13498297028294, Longitude 19.93652182450159\n",
      "Centroid 17: Latitude 54.13484345546256, Longitude 19.936622480374098\n",
      "Centroid 18: Latitude 54.13491755508826, Longitude 19.93604933852261\n",
      "Centroid 19: Latitude 54.13495872154698, Longitude 19.93657070899799\n",
      "Centroid 20: Latitude 54.13486680191997, Longitude 19.93659014732136\n",
      "Centroid 21: Latitude 54.134958383192526, Longitude 19.936539723155782\n",
      "Centroid 22: Latitude 54.13480860495367, Longitude 19.936630948554576\n"
     ]
    }
   ],
   "source": [
    "real_world_coords = []\n",
    "for cx, cy in centroids:\n",
    "    new_lat, new_lon = pixel_to_ground_coordinates(gsd, lat, lon, orig_w, orig_h, 2048, 1365, cx, cy)\n",
    "    real_world_coords.append((new_lat, new_lon))  # Append the tuple correctly\n",
    "\n",
    "# Print results\n",
    "for idx, (lat, lon) in enumerate(real_world_coords):\n",
    "    print(f\"Centroid {idx + 1}: Latitude {lat}, Longitude {lon}\")"
   ]
  },
  {
   "cell_type": "code",
   "execution_count": 26,
   "metadata": {},
   "outputs": [
    {
     "name": "stdout",
     "output_type": "stream",
     "text": [
      "Centroids saved to centroids3.csv\n"
     ]
    }
   ],
   "source": [
    "save_centroids_to_csv(real_world_coords, class_ids)"
   ]
  },
  {
   "cell_type": "code",
   "execution_count": 28,
   "metadata": {},
   "outputs": [
    {
     "name": "stdout",
     "output_type": "stream",
     "text": [
      "GPS corners saved to image_corners1.csv\n"
     ]
    }
   ],
   "source": [
    "gps_corners = get_image_corners(lat, lon, gsd, orig_w, orig_h)\n",
    "\n",
    "# Export to CSV\n",
    "csv_filename = \"image_corners.csv\"\n",
    "with open(csv_filename, mode=\"w\", newline=\"\") as file:\n",
    "    writer = csv.writer(file)\n",
    "    writer.writerow([\"Corner\", \"Latitude\", \"Longitude\"])\n",
    "    for corner, (lat, lon) in gps_corners.items():\n",
    "        writer.writerow([corner, lat, lon])\n",
    "\n",
    "print(f\"GPS corners saved to {csv_filename}\")"
   ]
  }
 ],
 "metadata": {
  "kernelspec": {
   "display_name": ".venv",
   "language": "python",
   "name": "python3"
  },
  "language_info": {
   "codemirror_mode": {
    "name": "ipython",
    "version": 3
   },
   "file_extension": ".py",
   "mimetype": "text/x-python",
   "name": "python",
   "nbconvert_exporter": "python",
   "pygments_lexer": "ipython3",
   "version": "3.10.12"
  }
 },
 "nbformat": 4,
 "nbformat_minor": 2
}
