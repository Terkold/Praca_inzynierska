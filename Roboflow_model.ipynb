{
 "cells": [
  {
   "cell_type": "code",
   "execution_count": 199,
   "metadata": {},
   "outputs": [],
   "source": [
    "import ast\n",
    "from PIL import Image\n",
    "from PIL.ExifTags import GPSTAGS\n",
    "import re\n",
    "import piexif\n",
    "import math"
   ]
  },
  {
   "cell_type": "markdown",
   "metadata": {},
   "source": [
    "Image path input and GSD calculation"
   ]
  },
  {
   "cell_type": "code",
   "execution_count": 312,
   "metadata": {},
   "outputs": [
    {
     "name": "stdout",
     "output_type": "stream",
     "text": [
      "0.009396\n"
     ]
    }
   ],
   "source": [
    "image_path = '/home/Praca/Unet/zdjecie/DJI_0642.JPG' # Path to input image\n",
    "# Calculating ground sampling distance\n",
    "flight_hight = 40 #meters\n",
    "s_x = 0.00000241 #meters\n",
    "focal_length = 0.01026 #meters\n",
    "gsd = (flight_hight*s_x)/focal_length #meters\n",
    "gsd = round(gsd,6)\n",
    "\n",
    "print(gsd)"
   ]
  },
  {
   "cell_type": "markdown",
   "metadata": {},
   "source": [
    "Getting coordinates of input image center"
   ]
  },
  {
   "cell_type": "code",
   "execution_count": 201,
   "metadata": {},
   "outputs": [
    {
     "name": "stdout",
     "output_type": "stream",
     "text": [
      "Original Size: 5472x3648, GPS: (54.13496063888889, 19.93641866666667)\n"
     ]
    }
   ],
   "source": [
    "def get_image_metadata(image_path):\n",
    "    \"\"\"Extracts image width, height, and GPS coordinates from EXIF metadata.\"\"\"\n",
    "    img = Image.open(image_path)\n",
    "    width, height = img.size  # Get original dimensions\n",
    "    \n",
    "    exif_data = piexif.load(img.info.get(\"exif\", b\"\"))  # Load EXIF data\n",
    "\n",
    "    gps_info = exif_data.get(\"GPS\", {})\n",
    "    gps_data = {}\n",
    "\n",
    "    if gps_info:\n",
    "        for key, val in gps_info.items():\n",
    "            tag = GPSTAGS.get(key, key)\n",
    "            gps_data[tag] = val\n",
    "\n",
    "    # Convert GPS DMS format to Decimal Degrees\n",
    "    def convert_to_degrees(value):\n",
    "        \"\"\"Convert EXIF GPS coordinates to decimal degrees.\"\"\"\n",
    "        d = value[0][0] / value[0][1]  # Degrees\n",
    "        m = value[1][0] / value[1][1]  # Minutes\n",
    "        s = value[2][0] / value[2][1]  # Seconds\n",
    "        return d + (m / 60.0) + (s / 3600.0)\n",
    "\n",
    "    if \"GPSLatitude\" in gps_data and \"GPSLongitude\" in gps_data:\n",
    "        lat = convert_to_degrees(gps_data[\"GPSLatitude\"])\n",
    "        lon = convert_to_degrees(gps_data[\"GPSLongitude\"])\n",
    "\n",
    "        if gps_data[\"GPSLatitudeRef\"] == b'S':  # South is negative\n",
    "            lat = -lat\n",
    "        if gps_data[\"GPSLongitudeRef\"] == b'W':  # West is negative\n",
    "            lon = -lon\n",
    "    else:\n",
    "        lat, lon = None, None\n",
    "\n",
    "    return width, height, lat, lon\n",
    "\n",
    "\n",
    "orig_w, orig_h, lat, lon = get_image_metadata(image_path)\n",
    "print(f\"Original Size: {orig_w}x{orig_h}, GPS: ({lat}, {lon})\")\n"
   ]
  },
  {
   "cell_type": "markdown",
   "metadata": {},
   "source": [
    "Resizing image to fit into model"
   ]
  },
  {
   "cell_type": "code",
   "execution_count": 302,
   "metadata": {},
   "outputs": [],
   "source": [
    "def resize_image(image_path, output_size=(2048, 1365), save_path=\"resized_image.jpg\"):\n",
    "    \"\"\"Resizes the image to 2048x1365 using LANCZOS interpolation and saves it.\"\"\"\n",
    "    img = Image.open(image_path)\n",
    "    img_resized = img.resize(output_size, Image.LANCZOS)  # Use LANCZOS instead of ANTIALIAS\n",
    "    \n",
    "    return img_resized"
   ]
  },
  {
   "cell_type": "markdown",
   "metadata": {},
   "source": [
    "Centroid transformation to ground coordinates"
   ]
  },
  {
   "cell_type": "code",
   "execution_count": 203,
   "metadata": {},
   "outputs": [],
   "source": [
    "def pixel_to_ground_coordinates(gsd, center_lat, center_lon, old_w, old_h, new_w, new_h, xx, yy):\n",
    "    \"\"\"\n",
    "    Converts pixel coordinates (xx, yy) to geographic coordinates (latitude, longitude).\n",
    "    \"\"\"\n",
    "    # Calculate scale factor\n",
    "    scale_x = old_w / new_w\n",
    "    scale_y = old_h / new_h\n",
    "\n",
    "    # Convert back to original scale\n",
    "    orig_cx = xx * scale_x\n",
    "    orig_cy = yy * scale_y\n",
    "\n",
    "    # Compute pixel offset from the image center\n",
    "    delta_x = (orig_cx - old_w / 2) * gsd\n",
    "    delta_y = (orig_cy - old_h / 2) * gsd\n",
    "\n",
    "    # Convert pixel offsets to degrees\n",
    "    earth_radius = 6378137.0  # Earth's radius in meters\n",
    "    lat_per_meter = 1 / (earth_radius * (math.pi / 180))  # Meters to degrees latitude\n",
    "    lon_per_meter = lat_per_meter / math.cos(math.radians(center_lat))  # Meters to degrees longitude\n",
    "\n",
    "    # Compute new latitude and longitude\n",
    "    new_lat = center_lat - delta_y * lat_per_meter  # Negative delta_y moves north\n",
    "    new_lon = center_lon + delta_x * lon_per_meter  # Positive delta_x moves east\n",
    "\n",
    "    return new_lat, new_lon"
   ]
  },
  {
   "cell_type": "markdown",
   "metadata": {},
   "source": [
    "Loading model output data and computing centroids"
   ]
  },
  {
   "cell_type": "code",
   "execution_count": 204,
   "metadata": {},
   "outputs": [],
   "source": [
    "def extract_data_from_output(data):\n",
    "    \"\"\"\n",
    "    Extracts bounding box coordinates and class IDs dynamically, \n",
    "    ensuring correct order even if the CSV format changes.\n",
    "    \"\"\"\n",
    "    if not data or 'output' not in data[0]:\n",
    "        print(\"❌ Error: Invalid input data format\")\n",
    "        return None\n",
    "\n",
    "    # Extract CSV content (skip the header)\n",
    "    lines = data[0]['output'].strip().split(\"\\n\")\n",
    "\n",
    "    if len(lines) < 2:\n",
    "        print(\"❌ Error: CSV data is missing values\")\n",
    "        return None\n",
    "\n",
    "    header = lines[0].split(\",\")  # Extract column names\n",
    "    csv_content = lines[1]  # Extract actual values\n",
    "    \n",
    "    # Debug: Print detected header\n",
    "    print(f\"🛠 Detected Header: {header}\")\n",
    "\n",
    "    # Use regex to extract list-like substrings\n",
    "    matches = re.findall(r'\\[.*?\\]', csv_content)\n",
    "\n",
    "    if len(matches) != len(header) - 1:\n",
    "        print(\"❌ Error: Mismatch in detected values and header length\")\n",
    "        print(f\"🔍 Extracted Matches: {matches}\")\n",
    "        return None\n",
    "\n",
    "    # Dictionary to store extracted values dynamically\n",
    "    extracted_values = {}\n",
    "\n",
    "    # Map extracted values to column names dynamically\n",
    "    for col_name, match in zip(header, matches):\n",
    "        extracted_values[col_name.strip()] = ast.literal_eval(match)\n",
    "\n",
    "    # Extract values safely\n",
    "    try:\n",
    "        y_max = extracted_values.get(\"y_max\", [])\n",
    "        y_min = extracted_values.get(\"y_min\", [])\n",
    "        x_max = extracted_values.get(\"x_max\", [])\n",
    "        x_min = extracted_values.get(\"x_min\", [])\n",
    "        class_ids = extracted_values.get(\"Class ID\", [])\n",
    "\n",
    "        # Ensure class IDs are integers\n",
    "        class_ids = [int(cid) for cid in class_ids]\n",
    "\n",
    "        # Compute centroids\n",
    "        centroids = [((float(xmax) + float(xmin)) / 2, (float(ymax) + float(ymin)) / 2) \n",
    "                     for xmax, xmin, ymax, ymin in zip(x_max, x_min, y_max, y_min)]\n",
    "\n",
    "        # Debug: Print extracted values\n",
    "        print(f\"✅ Extracted Class IDs: {class_ids}\")\n",
    "        print(f\"✅ Computed Centroids: {centroids}\")\n",
    "\n",
    "        return centroids, class_ids\n",
    "\n",
    "    except Exception as e:\n",
    "        print(f\"❌ Error while processing data: {e}\")\n",
    "        return None"
   ]
  },
  {
   "cell_type": "markdown",
   "metadata": {},
   "source": [
    "Saving centroids to CSV"
   ]
  },
  {
   "cell_type": "code",
   "execution_count": 205,
   "metadata": {},
   "outputs": [],
   "source": [
    "import csv\n",
    "\n",
    "def save_centroids_to_csv(centroids, class_ids, output_csv=\"centroids.csv\"):\n",
    "    \"\"\"Saves centroids (lat, lon) and class IDs to a CSV file for QGIS.\"\"\"\n",
    "    with open(output_csv, mode=\"w\", newline=\"\") as file:\n",
    "        writer = csv.writer(file)\n",
    "        writer.writerow([\"Latitude\", \"Longitude\", \"Class ID\"])  # CSV header\n",
    "        \n",
    "        for (lat, lon), class_id in zip(centroids, class_ids):\n",
    "            writer.writerow([lat, lon, class_id])\n",
    "\n",
    "    print(f\"Centroids saved to {output_csv}\")"
   ]
  },
  {
   "cell_type": "markdown",
   "metadata": {},
   "source": [
    "Getting corner coordinates of input image"
   ]
  },
  {
   "cell_type": "code",
   "execution_count": 258,
   "metadata": {},
   "outputs": [],
   "source": [
    "def get_image_corners(center_lat, center_lon, gsd, img_width, img_height):\n",
    "    \"\"\"\n",
    "    Computes the GPS coordinates of the four corners of an image.\n",
    "    \"\"\"\n",
    "\n",
    "    # Compute pixel shifts from center\n",
    "    half_w = (img_width / 2) * gsd  # Half width in meters\n",
    "    half_h = (img_height / 2) * gsd  # Half height in meters\n",
    "\n",
    "    # Convert meters to degrees\n",
    "    earth_radius = 6378137.0  # Radius of Earth in meters\n",
    "    lat_per_meter = 1 / (earth_radius * (math.pi / 180))  # Degrees per meter\n",
    "    lon_per_meter = lat_per_meter / math.cos(math.radians(center_lat))  # Adjust for latitude\n",
    "\n",
    "    # Calculate corner coordinates\n",
    "    top_left = (round(center_lat + half_h * lat_per_meter, 20), round(center_lon - half_w * lon_per_meter, 20))\n",
    "    top_right = (round(center_lat + half_h * lat_per_meter, 20), round(center_lon + half_w * lon_per_meter, 20))\n",
    "    bottom_left = (round(center_lat - half_h * lat_per_meter, 20), round(center_lon - half_w * lon_per_meter, 20))\n",
    "    bottom_right = (round(center_lat - half_h * lat_per_meter, 20), round(center_lon + half_w * lon_per_meter, 20))\n",
    "\n",
    "    return {\n",
    "        \"top_left\": top_left,\n",
    "        \"top_right\": top_right,\n",
    "        \"bottom_left\": bottom_left,\n",
    "        \"bottom_right\": bottom_right\n",
    "    }"
   ]
  },
  {
   "cell_type": "markdown",
   "metadata": {},
   "source": [
    "Execution of defined functions"
   ]
  },
  {
   "cell_type": "code",
   "execution_count": 313,
   "metadata": {},
   "outputs": [
    {
     "name": "stdout",
     "output_type": "stream",
     "text": [
      "Original Size: 5472x3648, GPS: (54.13478558333333, 19.9336355)\n"
     ]
    }
   ],
   "source": [
    "orig_w, orig_h, lat, lon = get_image_metadata(image_path)\n",
    "print(f\"Original Size: {orig_w}x{orig_h}, GPS: ({lat}, {lon})\")"
   ]
  },
  {
   "cell_type": "code",
   "execution_count": 314,
   "metadata": {},
   "outputs": [],
   "source": [
    "resized_image = resize_image(image_path)\n",
    "#resized_image.show()  # Show resized image"
   ]
  },
  {
   "cell_type": "code",
   "execution_count": 315,
   "metadata": {},
   "outputs": [],
   "source": [
    "# Connecting to model\n",
    "from inference_sdk import InferenceHTTPClient\n",
    "\n",
    "client = InferenceHTTPClient(\n",
    "    api_url=\"https://detect.roboflow.com\",\n",
    "    api_key=\"your Robofow api key\" #Can't show mine\n",
    ")\n",
    "\n",
    "result = client.run_workflow(\n",
    "    workspace_name=\"praca-7cas9\",\n",
    "    workflow_id=\"custom-workflow-2\",\n",
    "    images={\n",
    "        \"image\": resized_image # your input image, might need resizing\n",
    "    },\n",
    "    use_cache=True # cache workflow definition for 15 minutes\n",
    ")"
   ]
  },
  {
   "cell_type": "code",
   "execution_count": 316,
   "metadata": {},
   "outputs": [
    {
     "name": "stdout",
     "output_type": "stream",
     "text": [
      "[{'output': 'y_max,x_max,x_min,y_min,Class ID,timestamp\\n\"[850.0, 637.0, 1169.0, 1099.0, 131.0]\",\"[1076.0, 1203.0, 1965.0, 971.0, 419.0]\",\"[945.0, 1069.0, 1821.0, 944.0, 383.0]\",\"[703.0, 553.0, 1016.0, 1068.0, 100.0]\",\"[\\'0\\', \\'1\\', \\'1\\', \\'0\\', \\'1\\']\",2025-02-04T17:44:33.998620+00:00\\n'}]\n"
     ]
    }
   ],
   "source": [
    "print(result)\n",
    "data=result"
   ]
  },
  {
   "cell_type": "code",
   "execution_count": 317,
   "metadata": {},
   "outputs": [
    {
     "name": "stdout",
     "output_type": "stream",
     "text": [
      "🛠 Detected Header: ['y_max', 'x_max', 'x_min', 'y_min', 'Class ID', 'timestamp']\n",
      "✅ Extracted Class IDs: [0, 1, 1, 0, 1]\n",
      "✅ Computed Centroids: [(1010.5, 776.5), (1136.0, 595.0), (1893.0, 1092.5), (957.5, 1083.5), (401.0, 115.5)]\n"
     ]
    }
   ],
   "source": [
    "centroids, class_ids = extract_data_from_output(data)"
   ]
  },
  {
   "cell_type": "code",
   "execution_count": 318,
   "metadata": {},
   "outputs": [
    {
     "name": "stdout",
     "output_type": "stream",
     "text": [
      "Centroid 1: Latitude 54.134764379136406, Longitude 19.933630303478928\n",
      "Centroid 2: Latitude 54.1348053212826, Longitude 19.93367861187852\n",
      "Centroid 3: Latitude 54.13469309694249, Longitude 19.933970001985998\n",
      "Centroid 4: Latitude 54.13469512713156, Longitude 19.933609902322132\n",
      "Centroid 5: Latitude 54.134913485244574, Longitude 19.93339569017575\n"
     ]
    }
   ],
   "source": [
    "real_world_coords = []\n",
    "for cx, cy in centroids:\n",
    "    new_lat, new_lon = pixel_to_ground_coordinates(gsd, lat, lon, orig_w, orig_h, 2048, 1365, cx, cy)\n",
    "    real_world_coords.append((new_lat, new_lon))  # Append the tuple correctly\n",
    "\n",
    "# Print results\n",
    "for idx, x in enumerate(real_world_coords):\n",
    "    print(f\"Centroid {idx + 1}: Latitude {x[0]}, Longitude {x[1]}\")"
   ]
  },
  {
   "cell_type": "code",
   "execution_count": 319,
   "metadata": {},
   "outputs": [
    {
     "name": "stdout",
     "output_type": "stream",
     "text": [
      "Centroids saved to centroids.csv\n"
     ]
    }
   ],
   "source": [
    "save_centroids_to_csv(real_world_coords, class_ids)"
   ]
  },
  {
   "cell_type": "code",
   "execution_count": 320,
   "metadata": {},
   "outputs": [
    {
     "name": "stdout",
     "output_type": "stream",
     "text": [
      "{'top_left': (54.1349395393376, 19.93324133425356), 'top_right': (54.1349395393376, 19.934029665746444), 'bottom_left': (54.134631627329064, 19.93324133425356), 'bottom_right': (54.134631627329064, 19.934029665746444)}\n"
     ]
    }
   ],
   "source": [
    "gps_corners = get_image_corners(lat, lon, gsd, orig_w, orig_h)\n",
    "print(gps_corners)"
   ]
  },
  {
   "cell_type": "code",
   "execution_count": 321,
   "metadata": {},
   "outputs": [
    {
     "name": "stdout",
     "output_type": "stream",
     "text": [
      "GPS corners saved to image_corners3.csv\n"
     ]
    }
   ],
   "source": [
    "# Export to CSV\n",
    "csv_filename = \"image_corners.csv\"\n",
    "with open(csv_filename, mode=\"w\", newline=\"\") as file:\n",
    "    writer = csv.writer(file)\n",
    "    writer.writerow([\"Corner\", \"Latitude\", \"Longitude\"])\n",
    "    for corner, (lat, lon) in gps_corners.items():\n",
    "        writer.writerow([corner, lat, lon])\n",
    "\n",
    "print(f\"GPS corners saved to {csv_filename}\")"
   ]
  }
 ],
 "metadata": {
  "kernelspec": {
   "display_name": ".venv",
   "language": "python",
   "name": "python3"
  },
  "language_info": {
   "codemirror_mode": {
    "name": "ipython",
    "version": 3
   },
   "file_extension": ".py",
   "mimetype": "text/x-python",
   "name": "python",
   "nbconvert_exporter": "python",
   "pygments_lexer": "ipython3",
   "version": "3.10.12"
  }
 },
 "nbformat": 4,
 "nbformat_minor": 2
}
